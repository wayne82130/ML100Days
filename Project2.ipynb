{
 "cells": [
  {
   "cell_type": "markdown",
   "metadata": {
    "id": "ecrVHDiuAto7"
   },
   "source": [
    "哈摟，各位資料科學家大家好，我是來自於台北市\"頭期款不足\"的阿宏，我想買房子很久了，但是不知道要買哪個地方，想先從內政部不動產交易時價登入資料中先了解行情，我現在手邊蒐集了台北市Taipei(A_lvr_land_A.csv)、新北市New_Taipei(F_lvr_land_A.csv)、台中市Taichung(B_lvr_land_A.csv)、高雄市Kaohsiung(E_lvr_land_A.csv)共四份資料，請各位資料科學家幫幫忙分析了。"
   ]
  },
  {
   "cell_type": "markdown",
   "metadata": {
    "id": "9_PILIgwAtpW"
   },
   "source": [
    "# 1.不動產資料檔案讀取並串接"
   ]
  },
  {
   "cell_type": "markdown",
   "metadata": {
    "id": "54hz4CgWAtpX"
   },
   "source": [
    "資料分散在4個資料，先合併成一個資料方便後續分析，但是我發現有英文欄位跟中文欄位，留下中文刪除英文，並加入新的欄位用以分辨台北市Taipei、新北市New_Taipei、台中市Taichung、高雄市Kaohsiung"
   ]
  },
  {
   "cell_type": "markdown",
   "metadata": {
    "id": "UAgGy_owAtpY"
   },
   "source": [
    "1. 利用Pandas中的pd.read_csv()分別讀取A_lvr_land_A.csv、B_lvr_land_A.csv、E_lvr_land_A.csv、F_lvr_land_A.csv\n",
    "2. 刪除csv中第二列英文翻譯，The villages and towns urban district,transaction sign,land sector position building sector house number plate,land shifting total area square meter,....\n",
    "3. 生成city欄位其中以地區分類台北市Taipei(A_lvr_land_A.csv)、新北市New_Taipei(F_lvr_land_A.csv)、台中市Taichung(B_lvr_land_A.csv)、高雄市Kaohsiung(E_lvr_land_A.csv)\n",
    "4. 將以上四份資料運用pd.concat()串接"
   ]
  },
  {
   "cell_type": "code",
   "execution_count": 1,
   "metadata": {
    "id": "AtdUcGYAAtpY"
   },
   "outputs": [],
   "source": [
    "import pandas as pd"
   ]
  },
  {
   "cell_type": "code",
   "execution_count": 2,
   "metadata": {
    "id": "qaBwVWbkAtpZ"
   },
   "outputs": [
    {
     "name": "stderr",
     "output_type": "stream",
     "text": [
      "D:\\anaconda3\\lib\\site-packages\\IPython\\core\\interactiveshell.py:3071: DtypeWarning: Columns (3,7,14,15,16,17,18,21,22,24,25) have mixed types.Specify dtype option on import or set low_memory=False.\n",
      "  has_raised = await self.run_ast_nodes(code_ast.body, cell_name,\n"
     ]
    },
    {
     "data": {
      "text/html": [
       "<div>\n",
       "<style scoped>\n",
       "    .dataframe tbody tr th:only-of-type {\n",
       "        vertical-align: middle;\n",
       "    }\n",
       "\n",
       "    .dataframe tbody tr th {\n",
       "        vertical-align: top;\n",
       "    }\n",
       "\n",
       "    .dataframe thead th {\n",
       "        text-align: right;\n",
       "    }\n",
       "</style>\n",
       "<table border=\"1\" class=\"dataframe\">\n",
       "  <thead>\n",
       "    <tr style=\"text-align: right;\">\n",
       "      <th></th>\n",
       "      <th>鄉鎮市區</th>\n",
       "      <th>交易標的</th>\n",
       "      <th>土地區段位置建物區段門牌</th>\n",
       "      <th>土地移轉總面積平方公尺</th>\n",
       "      <th>都市土地使用分區</th>\n",
       "      <th>非都市土地使用分區</th>\n",
       "      <th>非都市土地使用編定</th>\n",
       "      <th>交易年月日</th>\n",
       "      <th>交易筆棟數</th>\n",
       "      <th>移轉層次</th>\n",
       "      <th>...</th>\n",
       "      <th>單價元平方公尺</th>\n",
       "      <th>車位類別</th>\n",
       "      <th>車位移轉總面積(平方公尺)</th>\n",
       "      <th>車位總價元</th>\n",
       "      <th>備註</th>\n",
       "      <th>編號</th>\n",
       "      <th>主建物面積</th>\n",
       "      <th>附屬建物面積</th>\n",
       "      <th>陽台面積</th>\n",
       "      <th>電梯</th>\n",
       "    </tr>\n",
       "  </thead>\n",
       "  <tbody>\n",
       "    <tr>\n",
       "      <th>0</th>\n",
       "      <td>The villages and towns urban district</td>\n",
       "      <td>transaction sign</td>\n",
       "      <td>land sector position building sector house num...</td>\n",
       "      <td>land shifting total area square meter</td>\n",
       "      <td>the use zoning or compiles and checks</td>\n",
       "      <td>the non-metropolis land use district</td>\n",
       "      <td>non-metropolis land use</td>\n",
       "      <td>transaction year month and day</td>\n",
       "      <td>transaction pen number</td>\n",
       "      <td>shifting level</td>\n",
       "      <td>...</td>\n",
       "      <td>the unit price (NTD / square meter)</td>\n",
       "      <td>the berth category</td>\n",
       "      <td>berth shifting total area square meter</td>\n",
       "      <td>the berth total price NTD</td>\n",
       "      <td>the note</td>\n",
       "      <td>serial number</td>\n",
       "      <td>NaN</td>\n",
       "      <td>NaN</td>\n",
       "      <td>NaN</td>\n",
       "      <td>NaN</td>\n",
       "    </tr>\n",
       "    <tr>\n",
       "      <th>1</th>\n",
       "      <td>文山區</td>\n",
       "      <td>房地(土地+建物)+車位</td>\n",
       "      <td>臺北市文山區忠順街二段85巷1~30號</td>\n",
       "      <td>26.97</td>\n",
       "      <td>住</td>\n",
       "      <td>NaN</td>\n",
       "      <td>NaN</td>\n",
       "      <td>1090406</td>\n",
       "      <td>土地1建物1車位2</td>\n",
       "      <td>四層</td>\n",
       "      <td>...</td>\n",
       "      <td>156583</td>\n",
       "      <td>坡道平面</td>\n",
       "      <td>40.7</td>\n",
       "      <td>0</td>\n",
       "      <td>含增建或未登記建物。;內含獨立產權車位，未包含在棟數內。</td>\n",
       "      <td>RPVOMLMKNHPFFAA18CA</td>\n",
       "      <td>110.91</td>\n",
       "      <td>9.63</td>\n",
       "      <td>11.09</td>\n",
       "      <td>NaN</td>\n",
       "    </tr>\n",
       "    <tr>\n",
       "      <th>2</th>\n",
       "      <td>文山區</td>\n",
       "      <td>房地(土地+建物)</td>\n",
       "      <td>臺北市文山區福興路91~120號</td>\n",
       "      <td>10.32</td>\n",
       "      <td>住</td>\n",
       "      <td>NaN</td>\n",
       "      <td>NaN</td>\n",
       "      <td>1090317</td>\n",
       "      <td>土地1建物1車位0</td>\n",
       "      <td>三層</td>\n",
       "      <td>...</td>\n",
       "      <td>149558</td>\n",
       "      <td>NaN</td>\n",
       "      <td>0.0</td>\n",
       "      <td>0</td>\n",
       "      <td>含增建或未登記建物。;</td>\n",
       "      <td>RPPPMLMKNHPFFAA67CA</td>\n",
       "      <td>24.58</td>\n",
       "      <td>1.28</td>\n",
       "      <td>2.30</td>\n",
       "      <td>NaN</td>\n",
       "    </tr>\n",
       "  </tbody>\n",
       "</table>\n",
       "<p>3 rows × 32 columns</p>\n",
       "</div>"
      ],
      "text/plain": [
       "                                    鄉鎮市區              交易標的  \\\n",
       "0  The villages and towns urban district  transaction sign   \n",
       "1                                    文山區      房地(土地+建物)+車位   \n",
       "2                                    文山區         房地(土地+建物)   \n",
       "\n",
       "                                        土地區段位置建物區段門牌  \\\n",
       "0  land sector position building sector house num...   \n",
       "1                                臺北市文山區忠順街二段85巷1~30號   \n",
       "2                                   臺北市文山區福興路91~120號   \n",
       "\n",
       "                             土地移轉總面積平方公尺  \\\n",
       "0  land shifting total area square meter   \n",
       "1                                  26.97   \n",
       "2                                  10.32   \n",
       "\n",
       "                                都市土地使用分區  \\\n",
       "0  the use zoning or compiles and checks   \n",
       "1                                      住   \n",
       "2                                      住   \n",
       "\n",
       "                              非都市土地使用分區                非都市土地使用編定  \\\n",
       "0  the non-metropolis land use district  non-metropolis land use   \n",
       "1                                   NaN                      NaN   \n",
       "2                                   NaN                      NaN   \n",
       "\n",
       "                            交易年月日                   交易筆棟數            移轉層次  \\\n",
       "0  transaction year month and day  transaction pen number  shifting level   \n",
       "1                         1090406               土地1建物1車位2              四層   \n",
       "2                         1090317               土地1建物1車位0              三層   \n",
       "\n",
       "   ...                              單價元平方公尺                車位類別  \\\n",
       "0  ...  the unit price (NTD / square meter)  the berth category   \n",
       "1  ...                               156583                坡道平面   \n",
       "2  ...                               149558                 NaN   \n",
       "\n",
       "                            車位移轉總面積(平方公尺)                      車位總價元  \\\n",
       "0  berth shifting total area square meter  the berth total price NTD   \n",
       "1                                    40.7                          0   \n",
       "2                                     0.0                          0   \n",
       "\n",
       "                             備註                   編號   主建物面積 附屬建物面積   陽台面積  \\\n",
       "0                      the note        serial number     NaN    NaN    NaN   \n",
       "1  含增建或未登記建物。;內含獨立產權車位，未包含在棟數內。  RPVOMLMKNHPFFAA18CA  110.91   9.63  11.09   \n",
       "2                   含增建或未登記建物。;  RPPPMLMKNHPFFAA67CA   24.58   1.28   2.30   \n",
       "\n",
       "    電梯  \n",
       "0  NaN  \n",
       "1  NaN  \n",
       "2  NaN  \n",
       "\n",
       "[3 rows x 32 columns]"
      ]
     },
     "execution_count": 2,
     "metadata": {},
     "output_type": "execute_result"
    }
   ],
   "source": [
    "#1.利用Pandas中的pd.read_csv()分別讀取A_lvr_land_A.csv、B_lvr_land_A.csv、E_lvr_land_A.csv、F_lvr_land_A.csv\n",
    "Taipei = pd.read_csv('A_lvr_land_A.csv')\n",
    "Taichung = pd.read_csv('B_lvr_land_A.csv')\n",
    "Kaohsiung = pd.read_csv('E_lvr_land_A.csv')\n",
    "New_Taipei = pd.read_csv('F_lvr_land_A.csv')\n",
    "\n",
    "Taipei.head(3)"
   ]
  },
  {
   "cell_type": "code",
   "execution_count": 3,
   "metadata": {
    "id": "ulv52OOeAtpZ"
   },
   "outputs": [
    {
     "data": {
      "text/html": [
       "<div>\n",
       "<style scoped>\n",
       "    .dataframe tbody tr th:only-of-type {\n",
       "        vertical-align: middle;\n",
       "    }\n",
       "\n",
       "    .dataframe tbody tr th {\n",
       "        vertical-align: top;\n",
       "    }\n",
       "\n",
       "    .dataframe thead th {\n",
       "        text-align: right;\n",
       "    }\n",
       "</style>\n",
       "<table border=\"1\" class=\"dataframe\">\n",
       "  <thead>\n",
       "    <tr style=\"text-align: right;\">\n",
       "      <th></th>\n",
       "      <th>鄉鎮市區</th>\n",
       "      <th>交易標的</th>\n",
       "      <th>土地區段位置建物區段門牌</th>\n",
       "      <th>土地移轉總面積平方公尺</th>\n",
       "      <th>都市土地使用分區</th>\n",
       "      <th>非都市土地使用分區</th>\n",
       "      <th>非都市土地使用編定</th>\n",
       "      <th>交易年月日</th>\n",
       "      <th>交易筆棟數</th>\n",
       "      <th>移轉層次</th>\n",
       "      <th>...</th>\n",
       "      <th>單價元平方公尺</th>\n",
       "      <th>車位類別</th>\n",
       "      <th>車位移轉總面積(平方公尺)</th>\n",
       "      <th>車位總價元</th>\n",
       "      <th>備註</th>\n",
       "      <th>編號</th>\n",
       "      <th>主建物面積</th>\n",
       "      <th>附屬建物面積</th>\n",
       "      <th>陽台面積</th>\n",
       "      <th>電梯</th>\n",
       "    </tr>\n",
       "  </thead>\n",
       "  <tbody>\n",
       "    <tr>\n",
       "      <th>1</th>\n",
       "      <td>文山區</td>\n",
       "      <td>房地(土地+建物)+車位</td>\n",
       "      <td>臺北市文山區忠順街二段85巷1~30號</td>\n",
       "      <td>26.97</td>\n",
       "      <td>住</td>\n",
       "      <td>NaN</td>\n",
       "      <td>NaN</td>\n",
       "      <td>1090406</td>\n",
       "      <td>土地1建物1車位2</td>\n",
       "      <td>四層</td>\n",
       "      <td>...</td>\n",
       "      <td>156583</td>\n",
       "      <td>坡道平面</td>\n",
       "      <td>40.7</td>\n",
       "      <td>0</td>\n",
       "      <td>含增建或未登記建物。;內含獨立產權車位，未包含在棟數內。</td>\n",
       "      <td>RPVOMLMKNHPFFAA18CA</td>\n",
       "      <td>110.91</td>\n",
       "      <td>9.63</td>\n",
       "      <td>11.09</td>\n",
       "      <td>NaN</td>\n",
       "    </tr>\n",
       "    <tr>\n",
       "      <th>2</th>\n",
       "      <td>文山區</td>\n",
       "      <td>房地(土地+建物)</td>\n",
       "      <td>臺北市文山區福興路91~120號</td>\n",
       "      <td>10.32</td>\n",
       "      <td>住</td>\n",
       "      <td>NaN</td>\n",
       "      <td>NaN</td>\n",
       "      <td>1090317</td>\n",
       "      <td>土地1建物1車位0</td>\n",
       "      <td>三層</td>\n",
       "      <td>...</td>\n",
       "      <td>149558</td>\n",
       "      <td>NaN</td>\n",
       "      <td>0.0</td>\n",
       "      <td>0</td>\n",
       "      <td>含增建或未登記建物。;</td>\n",
       "      <td>RPPPMLMKNHPFFAA67CA</td>\n",
       "      <td>24.58</td>\n",
       "      <td>1.28</td>\n",
       "      <td>2.30</td>\n",
       "      <td>NaN</td>\n",
       "    </tr>\n",
       "    <tr>\n",
       "      <th>3</th>\n",
       "      <td>文山區</td>\n",
       "      <td>房地(土地+建物)</td>\n",
       "      <td>臺北市文山區木柵路四段121~150號</td>\n",
       "      <td>39.64</td>\n",
       "      <td>其他</td>\n",
       "      <td>NaN</td>\n",
       "      <td>NaN</td>\n",
       "      <td>1090418</td>\n",
       "      <td>土地2建物1車位0</td>\n",
       "      <td>六層</td>\n",
       "      <td>...</td>\n",
       "      <td>181472</td>\n",
       "      <td>NaN</td>\n",
       "      <td>0.0</td>\n",
       "      <td>0</td>\n",
       "      <td>NaN</td>\n",
       "      <td>RPSPMLMKNHPFFAA97CA</td>\n",
       "      <td>78.80</td>\n",
       "      <td>4.15</td>\n",
       "      <td>8.76</td>\n",
       "      <td>NaN</td>\n",
       "    </tr>\n",
       "  </tbody>\n",
       "</table>\n",
       "<p>3 rows × 32 columns</p>\n",
       "</div>"
      ],
      "text/plain": [
       "  鄉鎮市區          交易標的         土地區段位置建物區段門牌 土地移轉總面積平方公尺 都市土地使用分區 非都市土地使用分區  \\\n",
       "1  文山區  房地(土地+建物)+車位  臺北市文山區忠順街二段85巷1~30號       26.97        住       NaN   \n",
       "2  文山區     房地(土地+建物)     臺北市文山區福興路91~120號       10.32        住       NaN   \n",
       "3  文山區     房地(土地+建物)  臺北市文山區木柵路四段121~150號       39.64       其他       NaN   \n",
       "\n",
       "  非都市土地使用編定    交易年月日      交易筆棟數 移轉層次  ... 單價元平方公尺  車位類別 車位移轉總面積(平方公尺) 車位總價元  \\\n",
       "1       NaN  1090406  土地1建物1車位2   四層  ...  156583  坡道平面          40.7     0   \n",
       "2       NaN  1090317  土地1建物1車位0   三層  ...  149558   NaN           0.0     0   \n",
       "3       NaN  1090418  土地2建物1車位0   六層  ...  181472   NaN           0.0     0   \n",
       "\n",
       "                             備註                   編號   主建物面積 附屬建物面積   陽台面積  \\\n",
       "1  含增建或未登記建物。;內含獨立產權車位，未包含在棟數內。  RPVOMLMKNHPFFAA18CA  110.91   9.63  11.09   \n",
       "2                   含增建或未登記建物。;  RPPPMLMKNHPFFAA67CA   24.58   1.28   2.30   \n",
       "3                           NaN  RPSPMLMKNHPFFAA97CA   78.80   4.15   8.76   \n",
       "\n",
       "    電梯  \n",
       "1  NaN  \n",
       "2  NaN  \n",
       "3  NaN  \n",
       "\n",
       "[3 rows x 32 columns]"
      ]
     },
     "execution_count": 3,
     "metadata": {},
     "output_type": "execute_result"
    }
   ],
   "source": [
    "#2.刪除csv中第二列英文翻譯，The villages and towns urban district,transaction sign,land sector position building sector house number plate,land shifting total area square meter,....\n",
    "Taipei.drop(0, inplace=True)\n",
    "Taichung.drop(0, inplace=True)\n",
    "Kaohsiung.drop(0, inplace=True)\n",
    "New_Taipei.drop(0, inplace=True)\n",
    "\n",
    "Taipei.head(3)"
   ]
  },
  {
   "cell_type": "code",
   "execution_count": 4,
   "metadata": {
    "id": "p7cqARS8Atpa"
   },
   "outputs": [
    {
     "data": {
      "text/html": [
       "<div>\n",
       "<style scoped>\n",
       "    .dataframe tbody tr th:only-of-type {\n",
       "        vertical-align: middle;\n",
       "    }\n",
       "\n",
       "    .dataframe tbody tr th {\n",
       "        vertical-align: top;\n",
       "    }\n",
       "\n",
       "    .dataframe thead th {\n",
       "        text-align: right;\n",
       "    }\n",
       "</style>\n",
       "<table border=\"1\" class=\"dataframe\">\n",
       "  <thead>\n",
       "    <tr style=\"text-align: right;\">\n",
       "      <th></th>\n",
       "      <th>鄉鎮市區</th>\n",
       "      <th>交易標的</th>\n",
       "      <th>土地區段位置建物區段門牌</th>\n",
       "      <th>土地移轉總面積平方公尺</th>\n",
       "      <th>都市土地使用分區</th>\n",
       "      <th>非都市土地使用分區</th>\n",
       "      <th>非都市土地使用編定</th>\n",
       "      <th>交易年月日</th>\n",
       "      <th>交易筆棟數</th>\n",
       "      <th>移轉層次</th>\n",
       "      <th>...</th>\n",
       "      <th>車位類別</th>\n",
       "      <th>車位移轉總面積(平方公尺)</th>\n",
       "      <th>車位總價元</th>\n",
       "      <th>備註</th>\n",
       "      <th>編號</th>\n",
       "      <th>主建物面積</th>\n",
       "      <th>附屬建物面積</th>\n",
       "      <th>陽台面積</th>\n",
       "      <th>電梯</th>\n",
       "      <th>city</th>\n",
       "    </tr>\n",
       "  </thead>\n",
       "  <tbody>\n",
       "    <tr>\n",
       "      <th>1</th>\n",
       "      <td>文山區</td>\n",
       "      <td>房地(土地+建物)+車位</td>\n",
       "      <td>臺北市文山區忠順街二段85巷1~30號</td>\n",
       "      <td>26.97</td>\n",
       "      <td>住</td>\n",
       "      <td>NaN</td>\n",
       "      <td>NaN</td>\n",
       "      <td>1090406</td>\n",
       "      <td>土地1建物1車位2</td>\n",
       "      <td>四層</td>\n",
       "      <td>...</td>\n",
       "      <td>坡道平面</td>\n",
       "      <td>40.7</td>\n",
       "      <td>0</td>\n",
       "      <td>含增建或未登記建物。;內含獨立產權車位，未包含在棟數內。</td>\n",
       "      <td>RPVOMLMKNHPFFAA18CA</td>\n",
       "      <td>110.91</td>\n",
       "      <td>9.63</td>\n",
       "      <td>11.09</td>\n",
       "      <td>NaN</td>\n",
       "      <td>Taipei</td>\n",
       "    </tr>\n",
       "    <tr>\n",
       "      <th>2</th>\n",
       "      <td>文山區</td>\n",
       "      <td>房地(土地+建物)</td>\n",
       "      <td>臺北市文山區福興路91~120號</td>\n",
       "      <td>10.32</td>\n",
       "      <td>住</td>\n",
       "      <td>NaN</td>\n",
       "      <td>NaN</td>\n",
       "      <td>1090317</td>\n",
       "      <td>土地1建物1車位0</td>\n",
       "      <td>三層</td>\n",
       "      <td>...</td>\n",
       "      <td>NaN</td>\n",
       "      <td>0.0</td>\n",
       "      <td>0</td>\n",
       "      <td>含增建或未登記建物。;</td>\n",
       "      <td>RPPPMLMKNHPFFAA67CA</td>\n",
       "      <td>24.58</td>\n",
       "      <td>1.28</td>\n",
       "      <td>2.30</td>\n",
       "      <td>NaN</td>\n",
       "      <td>Taipei</td>\n",
       "    </tr>\n",
       "    <tr>\n",
       "      <th>3</th>\n",
       "      <td>文山區</td>\n",
       "      <td>房地(土地+建物)</td>\n",
       "      <td>臺北市文山區木柵路四段121~150號</td>\n",
       "      <td>39.64</td>\n",
       "      <td>其他</td>\n",
       "      <td>NaN</td>\n",
       "      <td>NaN</td>\n",
       "      <td>1090418</td>\n",
       "      <td>土地2建物1車位0</td>\n",
       "      <td>六層</td>\n",
       "      <td>...</td>\n",
       "      <td>NaN</td>\n",
       "      <td>0.0</td>\n",
       "      <td>0</td>\n",
       "      <td>NaN</td>\n",
       "      <td>RPSPMLMKNHPFFAA97CA</td>\n",
       "      <td>78.80</td>\n",
       "      <td>4.15</td>\n",
       "      <td>8.76</td>\n",
       "      <td>NaN</td>\n",
       "      <td>Taipei</td>\n",
       "    </tr>\n",
       "  </tbody>\n",
       "</table>\n",
       "<p>3 rows × 33 columns</p>\n",
       "</div>"
      ],
      "text/plain": [
       "  鄉鎮市區          交易標的         土地區段位置建物區段門牌 土地移轉總面積平方公尺 都市土地使用分區 非都市土地使用分區  \\\n",
       "1  文山區  房地(土地+建物)+車位  臺北市文山區忠順街二段85巷1~30號       26.97        住       NaN   \n",
       "2  文山區     房地(土地+建物)     臺北市文山區福興路91~120號       10.32        住       NaN   \n",
       "3  文山區     房地(土地+建物)  臺北市文山區木柵路四段121~150號       39.64       其他       NaN   \n",
       "\n",
       "  非都市土地使用編定    交易年月日      交易筆棟數 移轉層次  ...  車位類別 車位移轉總面積(平方公尺) 車位總價元  \\\n",
       "1       NaN  1090406  土地1建物1車位2   四層  ...  坡道平面          40.7     0   \n",
       "2       NaN  1090317  土地1建物1車位0   三層  ...   NaN           0.0     0   \n",
       "3       NaN  1090418  土地2建物1車位0   六層  ...   NaN           0.0     0   \n",
       "\n",
       "                             備註                   編號   主建物面積 附屬建物面積   陽台面積  \\\n",
       "1  含增建或未登記建物。;內含獨立產權車位，未包含在棟數內。  RPVOMLMKNHPFFAA18CA  110.91   9.63  11.09   \n",
       "2                   含增建或未登記建物。;  RPPPMLMKNHPFFAA67CA   24.58   1.28   2.30   \n",
       "3                           NaN  RPSPMLMKNHPFFAA97CA   78.80   4.15   8.76   \n",
       "\n",
       "    電梯    city  \n",
       "1  NaN  Taipei  \n",
       "2  NaN  Taipei  \n",
       "3  NaN  Taipei  \n",
       "\n",
       "[3 rows x 33 columns]"
      ]
     },
     "execution_count": 4,
     "metadata": {},
     "output_type": "execute_result"
    }
   ],
   "source": [
    "#3. 生成city欄位其中以地區分類台北市Taipei(A_lvr_land_A.csv)、新北市New_Taipei(F_lvr_land_A.csv)、台中市Taichung(B_lvr_land_A.csv)、高雄市Kaohsiung(E_lvr_land_A.csv)\n",
    "Taipei['city'] = 'Taipei'\n",
    "Taichung['city'] = 'Taichung'\n",
    "Kaohsiung['city'] = 'Kaohsiung'\n",
    "New_Taipei['city'] = 'New_Taipei'\n",
    "\n",
    "Taipei.head(3)"
   ]
  },
  {
   "cell_type": "code",
   "execution_count": 5,
   "metadata": {
    "id": "5Sajh33BAtpb"
   },
   "outputs": [
    {
     "data": {
      "text/plain": [
       "(8841, 33)"
      ]
     },
     "metadata": {},
     "output_type": "display_data"
    },
    {
     "data": {
      "text/plain": [
       "(16684, 33)"
      ]
     },
     "metadata": {},
     "output_type": "display_data"
    },
    {
     "data": {
      "text/plain": [
       "(14133, 33)"
      ]
     },
     "metadata": {},
     "output_type": "display_data"
    },
    {
     "data": {
      "text/plain": [
       "(19818, 33)"
      ]
     },
     "metadata": {},
     "output_type": "display_data"
    },
    {
     "data": {
      "text/plain": [
       "(59476, 33)"
      ]
     },
     "metadata": {},
     "output_type": "display_data"
    },
    {
     "data": {
      "text/html": [
       "<div>\n",
       "<style scoped>\n",
       "    .dataframe tbody tr th:only-of-type {\n",
       "        vertical-align: middle;\n",
       "    }\n",
       "\n",
       "    .dataframe tbody tr th {\n",
       "        vertical-align: top;\n",
       "    }\n",
       "\n",
       "    .dataframe thead th {\n",
       "        text-align: right;\n",
       "    }\n",
       "</style>\n",
       "<table border=\"1\" class=\"dataframe\">\n",
       "  <thead>\n",
       "    <tr style=\"text-align: right;\">\n",
       "      <th></th>\n",
       "      <th>鄉鎮市區</th>\n",
       "      <th>交易標的</th>\n",
       "      <th>土地區段位置建物區段門牌</th>\n",
       "      <th>土地移轉總面積平方公尺</th>\n",
       "      <th>都市土地使用分區</th>\n",
       "      <th>非都市土地使用分區</th>\n",
       "      <th>非都市土地使用編定</th>\n",
       "      <th>交易年月日</th>\n",
       "      <th>交易筆棟數</th>\n",
       "      <th>移轉層次</th>\n",
       "      <th>...</th>\n",
       "      <th>車位類別</th>\n",
       "      <th>車位移轉總面積(平方公尺)</th>\n",
       "      <th>車位總價元</th>\n",
       "      <th>備註</th>\n",
       "      <th>編號</th>\n",
       "      <th>主建物面積</th>\n",
       "      <th>附屬建物面積</th>\n",
       "      <th>陽台面積</th>\n",
       "      <th>電梯</th>\n",
       "      <th>city</th>\n",
       "    </tr>\n",
       "  </thead>\n",
       "  <tbody>\n",
       "    <tr>\n",
       "      <th>1</th>\n",
       "      <td>文山區</td>\n",
       "      <td>房地(土地+建物)+車位</td>\n",
       "      <td>臺北市文山區忠順街二段85巷1~30號</td>\n",
       "      <td>26.97</td>\n",
       "      <td>住</td>\n",
       "      <td>NaN</td>\n",
       "      <td>NaN</td>\n",
       "      <td>1090406</td>\n",
       "      <td>土地1建物1車位2</td>\n",
       "      <td>四層</td>\n",
       "      <td>...</td>\n",
       "      <td>坡道平面</td>\n",
       "      <td>40.7</td>\n",
       "      <td>0</td>\n",
       "      <td>含增建或未登記建物。;內含獨立產權車位，未包含在棟數內。</td>\n",
       "      <td>RPVOMLMKNHPFFAA18CA</td>\n",
       "      <td>110.91</td>\n",
       "      <td>9.63</td>\n",
       "      <td>11.09</td>\n",
       "      <td>NaN</td>\n",
       "      <td>Taipei</td>\n",
       "    </tr>\n",
       "    <tr>\n",
       "      <th>2</th>\n",
       "      <td>文山區</td>\n",
       "      <td>房地(土地+建物)</td>\n",
       "      <td>臺北市文山區福興路91~120號</td>\n",
       "      <td>10.32</td>\n",
       "      <td>住</td>\n",
       "      <td>NaN</td>\n",
       "      <td>NaN</td>\n",
       "      <td>1090317</td>\n",
       "      <td>土地1建物1車位0</td>\n",
       "      <td>三層</td>\n",
       "      <td>...</td>\n",
       "      <td>NaN</td>\n",
       "      <td>0.0</td>\n",
       "      <td>0</td>\n",
       "      <td>含增建或未登記建物。;</td>\n",
       "      <td>RPPPMLMKNHPFFAA67CA</td>\n",
       "      <td>24.58</td>\n",
       "      <td>1.28</td>\n",
       "      <td>2.30</td>\n",
       "      <td>NaN</td>\n",
       "      <td>Taipei</td>\n",
       "    </tr>\n",
       "    <tr>\n",
       "      <th>3</th>\n",
       "      <td>文山區</td>\n",
       "      <td>房地(土地+建物)</td>\n",
       "      <td>臺北市文山區木柵路四段121~150號</td>\n",
       "      <td>39.64</td>\n",
       "      <td>其他</td>\n",
       "      <td>NaN</td>\n",
       "      <td>NaN</td>\n",
       "      <td>1090418</td>\n",
       "      <td>土地2建物1車位0</td>\n",
       "      <td>六層</td>\n",
       "      <td>...</td>\n",
       "      <td>NaN</td>\n",
       "      <td>0.0</td>\n",
       "      <td>0</td>\n",
       "      <td>NaN</td>\n",
       "      <td>RPSPMLMKNHPFFAA97CA</td>\n",
       "      <td>78.80</td>\n",
       "      <td>4.15</td>\n",
       "      <td>8.76</td>\n",
       "      <td>NaN</td>\n",
       "      <td>Taipei</td>\n",
       "    </tr>\n",
       "  </tbody>\n",
       "</table>\n",
       "<p>3 rows × 33 columns</p>\n",
       "</div>"
      ],
      "text/plain": [
       "  鄉鎮市區          交易標的         土地區段位置建物區段門牌 土地移轉總面積平方公尺 都市土地使用分區 非都市土地使用分區  \\\n",
       "1  文山區  房地(土地+建物)+車位  臺北市文山區忠順街二段85巷1~30號       26.97        住       NaN   \n",
       "2  文山區     房地(土地+建物)     臺北市文山區福興路91~120號       10.32        住       NaN   \n",
       "3  文山區     房地(土地+建物)  臺北市文山區木柵路四段121~150號       39.64       其他       NaN   \n",
       "\n",
       "  非都市土地使用編定    交易年月日      交易筆棟數 移轉層次  ...  車位類別 車位移轉總面積(平方公尺) 車位總價元  \\\n",
       "1       NaN  1090406  土地1建物1車位2   四層  ...  坡道平面          40.7     0   \n",
       "2       NaN  1090317  土地1建物1車位0   三層  ...   NaN           0.0     0   \n",
       "3       NaN  1090418  土地2建物1車位0   六層  ...   NaN           0.0     0   \n",
       "\n",
       "                             備註                   編號   主建物面積 附屬建物面積   陽台面積  \\\n",
       "1  含增建或未登記建物。;內含獨立產權車位，未包含在棟數內。  RPVOMLMKNHPFFAA18CA  110.91   9.63  11.09   \n",
       "2                   含增建或未登記建物。;  RPPPMLMKNHPFFAA67CA   24.58   1.28   2.30   \n",
       "3                           NaN  RPSPMLMKNHPFFAA97CA   78.80   4.15   8.76   \n",
       "\n",
       "    電梯    city  \n",
       "1  NaN  Taipei  \n",
       "2  NaN  Taipei  \n",
       "3  NaN  Taipei  \n",
       "\n",
       "[3 rows x 33 columns]"
      ]
     },
     "execution_count": 5,
     "metadata": {},
     "output_type": "execute_result"
    }
   ],
   "source": [
    "#4. 將以上四份資料運用pd.concat()串接\n",
    "data = pd.concat([Taipei, Taichung, Kaohsiung, New_Taipei])\n",
    "display(Taipei.shape, Taichung.shape, Kaohsiung.shape, New_Taipei.shape, data.shape)\n",
    "data.head(3)"
   ]
  },
  {
   "cell_type": "markdown",
   "metadata": {
    "id": "vf6GM8Z_Atpb"
   },
   "source": [
    "# 2. 資料清理與切片"
   ]
  },
  {
   "cell_type": "markdown",
   "metadata": {
    "id": "QMPrmISNAtpb"
   },
   "source": [
    "因為我是想買來住的房子，所以幫忙刪除住宿用途以外的資料，並且限制\n",
    "1. 交易年月日，限制在109年\n",
    "2. 建物現況格局-房，1~5間 \n",
    "3. 建物現況格局-廳，1~2廳"
   ]
  },
  {
   "cell_type": "markdown",
   "metadata": {
    "id": "1C-ImCfTAtpc"
   },
   "source": [
    "以下columns_mapping、analysis_columns、columns_type提供給資料科學家配合使用\n",
    "1. 利用.rename()並配合以下columns_mapping，將原中文欄位名稱改為英文方便之後分析\n",
    "2. 取出主要用途(main_use)為'住家用'以及都市土地使用分區(use_zoning)為'住'的資料並針對以下欄位analysis_columns做分析並去除na值\n",
    "   (提示:先取完之後再.dropna())\n",
    "3. 觀察欄位資料型態，並利用.astype()搭配以下提供的columns_type做欄位型態轉換\n",
    "4. 做資料切片將<br>\n",
    "    新增欄位交易年月日(tx_dt_year)，從交易年月日(tx_dt)萃取出年份<br>\n",
    "    1.交易年月日(tx_dt_year)，限制在109年<br>\n",
    "    2.建物現況格局-房(room_number)，限制在1到5間<br>\n",
    "    3.建物現況格局-廳(hall_number)，限制在1到2廳<br>\n",
    "    4.最後運用.reset_index()重新定義索引"
   ]
  },
  {
   "cell_type": "code",
   "execution_count": 6,
   "metadata": {
    "id": "rBSElFmKAtpc"
   },
   "outputs": [],
   "source": [
    "columns_mapping = {'鄉鎮市區':'towns',\n",
    "                   '交易標的':'transaction_sign',\n",
    "                   '土地區段位置建物區段門牌':'house_number',\n",
    "                   '土地移轉總面積平方公尺':'land_area_square_meter', \n",
    "                   '都市土地使用分區':'use_zoning', \n",
    "                   '非都市土地使用分區':'land_use_district',\n",
    "                   '非都市土地使用編定':'land_use',\n",
    "                   '交易年月日':'tx_dt', \n",
    "                   '交易筆棟數':'transaction_pen_number', \n",
    "                   '移轉層次':'shifting_level', \n",
    "                   '總樓層數':'total_floor_number', \n",
    "                   '建物型態':'building_state', \n",
    "                   '主要用途':'main_use', \n",
    "                   '主要建材':'main_materials',\n",
    "                   '建築完成年月':'complete_date', \n",
    "                   '建物移轉總面積平方公尺':'building_area_square_meter', \n",
    "                   '建物現況格局-房':'room_number', \n",
    "                   '建物現況格局-廳':'hall_number', \n",
    "                   '建物現況格局-衛':'health_number', \n",
    "                   '建物現況格局-隔間':'compartmented_number', \n",
    "                   '有無管理組織':'manages', \n",
    "                   '總價元':'total_price', \n",
    "                   '單價元平方公尺':'unit_price', \n",
    "                   '車位類別':'berth_category', \n",
    "                   '車位移轉總面積(平方公尺)':'berth_area_square_meter',\n",
    "                   '車位總價元':'berth_price', \n",
    "                   '備註':'note', \n",
    "                   '編號':'serial_number', \n",
    "                   '主建物面積':'main_building_area', \n",
    "                   '附屬建物面積':'auxiliary_building_area', \n",
    "                   '陽台面積':'balcony_area', \n",
    "                   '電梯':'elevator'}\n",
    "analysis_columns = ['city','towns','main_use','use_zoning','total_price','building_area_square_meter','main_building_area',\n",
    "                    'tx_dt','unit_price','room_number','hall_number','health_number']\n",
    "columns_type = {'total_price': 'int','unit_price': 'float','building_area_square_meter': 'float','main_building_area': 'float',\n",
    "                'room_number': 'int','hall_number': 'int','health_number': 'int'}"
   ]
  },
  {
   "cell_type": "code",
   "execution_count": 7,
   "metadata": {
    "id": "JFrw25keAtpe",
    "scrolled": true
   },
   "outputs": [
    {
     "data": {
      "text/plain": [
       "Index(['towns', 'transaction_sign', 'house_number', 'land_area_square_meter',\n",
       "       'use_zoning', 'land_use_district', 'land_use', 'tx_dt',\n",
       "       'transaction_pen_number', 'shifting_level', 'total_floor_number',\n",
       "       'building_state', 'main_use', 'main_materials', 'complete_date',\n",
       "       'building_area_square_meter', 'room_number', 'hall_number',\n",
       "       'health_number', 'compartmented_number', 'manages', 'total_price',\n",
       "       'unit_price', 'berth_category', 'berth_area_square_meter',\n",
       "       'berth_price', 'note', 'serial_number', 'main_building_area',\n",
       "       'auxiliary_building_area', 'balcony_area', 'elevator', 'city'],\n",
       "      dtype='object')"
      ]
     },
     "execution_count": 7,
     "metadata": {},
     "output_type": "execute_result"
    }
   ],
   "source": [
    "#1. 利用.rename()並配合以下columns_mapping，將原中文欄位名稱改為英文方便之後分析\n",
    "data.rename(columns_mapping, axis=1, inplace=True)\n",
    "data.columns"
   ]
  },
  {
   "cell_type": "code",
   "execution_count": 8,
   "metadata": {
    "id": "GMPSUJFcAtpf"
   },
   "outputs": [
    {
     "data": {
      "text/plain": [
       "city                           0\n",
       "towns                          0\n",
       "main_use                       0\n",
       "use_zoning                     0\n",
       "total_price                    0\n",
       "building_area_square_meter     0\n",
       "main_building_area             0\n",
       "tx_dt                          0\n",
       "unit_price                    16\n",
       "room_number                    0\n",
       "hall_number                    0\n",
       "health_number                  0\n",
       "dtype: int64"
      ]
     },
     "metadata": {},
     "output_type": "display_data"
    },
    {
     "name": "stderr",
     "output_type": "stream",
     "text": [
      "<ipython-input-8-370816e11d70>:5: SettingWithCopyWarning: \n",
      "A value is trying to be set on a copy of a slice from a DataFrame\n",
      "\n",
      "See the caveats in the documentation: https://pandas.pydata.org/pandas-docs/stable/user_guide/indexing.html#returning-a-view-versus-a-copy\n",
      "  data_live.dropna(subset=analysis_columns, inplace=True)\n"
     ]
    },
    {
     "data": {
      "text/plain": [
       "city                          0\n",
       "towns                         0\n",
       "main_use                      0\n",
       "use_zoning                    0\n",
       "total_price                   0\n",
       "building_area_square_meter    0\n",
       "main_building_area            0\n",
       "tx_dt                         0\n",
       "unit_price                    0\n",
       "room_number                   0\n",
       "hall_number                   0\n",
       "health_number                 0\n",
       "dtype: int64"
      ]
     },
     "execution_count": 8,
     "metadata": {},
     "output_type": "execute_result"
    }
   ],
   "source": [
    "#2. 取出主要用途(main_use)為'住家用'以及都市土地使用分區(use_zoning)為'住'的資料並針對以下欄位analysis_columns做分析並去除na值 (提示:先取完之後再.dropna())\n",
    "#   (提示:先取完之後再.dropna())\n",
    "data_live = data[(data['main_use'] == '住家用') & (data['use_zoning'] == '住')]\n",
    "display(data_live[analysis_columns].isna().sum())\n",
    "data_live.dropna(subset=analysis_columns, inplace=True)\n",
    "data_live[analysis_columns].isna().sum()"
   ]
  },
  {
   "cell_type": "code",
   "execution_count": 9,
   "metadata": {
    "id": "Y5_BWtUpAtph"
   },
   "outputs": [
    {
     "data": {
      "text/plain": [
       "city                           object\n",
       "towns                          object\n",
       "main_use                       object\n",
       "use_zoning                     object\n",
       "total_price                    object\n",
       "building_area_square_meter     object\n",
       "main_building_area            float64\n",
       "tx_dt                          object\n",
       "unit_price                     object\n",
       "room_number                    object\n",
       "hall_number                    object\n",
       "health_number                  object\n",
       "dtype: object"
      ]
     },
     "metadata": {},
     "output_type": "display_data"
    },
    {
     "data": {
      "text/plain": [
       "city                           object\n",
       "towns                          object\n",
       "main_use                       object\n",
       "use_zoning                     object\n",
       "total_price                     int32\n",
       "building_area_square_meter    float64\n",
       "main_building_area            float64\n",
       "tx_dt                          object\n",
       "unit_price                    float64\n",
       "room_number                     int32\n",
       "hall_number                     int32\n",
       "health_number                   int32\n",
       "dtype: object"
      ]
     },
     "execution_count": 9,
     "metadata": {},
     "output_type": "execute_result"
    }
   ],
   "source": [
    "#3. 觀察欄位資料型態，並利用.astype()搭配以下提供的columns_type做欄位型態轉換\n",
    "display(data_live[analysis_columns].dtypes)\n",
    "data_live = data_live.astype(columns_type)\n",
    "data_live[analysis_columns].dtypes"
   ]
  },
  {
   "cell_type": "code",
   "execution_count": 10,
   "metadata": {
    "id": "AxF8yHDeAtph",
    "scrolled": true
   },
   "outputs": [
    {
     "name": "stderr",
     "output_type": "stream",
     "text": [
      "<ipython-input-10-13e750da6c29>:8: SettingWithCopyWarning: \n",
      "A value is trying to be set on a copy of a slice from a DataFrame.\n",
      "Try using .loc[row_indexer,col_indexer] = value instead\n",
      "\n",
      "See the caveats in the documentation: https://pandas.pydata.org/pandas-docs/stable/user_guide/indexing.html#returning-a-view-versus-a-copy\n",
      "  data_analysis['tx_dt_year'] = data_analysis['tx_dt'].str.slice(stop=3)\n"
     ]
    },
    {
     "data": {
      "text/plain": [
       "(7802, 13)"
      ]
     },
     "metadata": {},
     "output_type": "display_data"
    },
    {
     "data": {
      "text/plain": [
       "(6894, 13)"
      ]
     },
     "metadata": {},
     "output_type": "display_data"
    },
    {
     "data": {
      "text/html": [
       "<div>\n",
       "<style scoped>\n",
       "    .dataframe tbody tr th:only-of-type {\n",
       "        vertical-align: middle;\n",
       "    }\n",
       "\n",
       "    .dataframe tbody tr th {\n",
       "        vertical-align: top;\n",
       "    }\n",
       "\n",
       "    .dataframe thead th {\n",
       "        text-align: right;\n",
       "    }\n",
       "</style>\n",
       "<table border=\"1\" class=\"dataframe\">\n",
       "  <thead>\n",
       "    <tr style=\"text-align: right;\">\n",
       "      <th></th>\n",
       "      <th>city</th>\n",
       "      <th>towns</th>\n",
       "      <th>main_use</th>\n",
       "      <th>use_zoning</th>\n",
       "      <th>total_price</th>\n",
       "      <th>building_area_square_meter</th>\n",
       "      <th>main_building_area</th>\n",
       "      <th>tx_dt</th>\n",
       "      <th>unit_price</th>\n",
       "      <th>room_number</th>\n",
       "      <th>hall_number</th>\n",
       "      <th>health_number</th>\n",
       "      <th>tx_dt_year</th>\n",
       "    </tr>\n",
       "  </thead>\n",
       "  <tbody>\n",
       "    <tr>\n",
       "      <th>0</th>\n",
       "      <td>Taipei</td>\n",
       "      <td>文山區</td>\n",
       "      <td>住家用</td>\n",
       "      <td>住</td>\n",
       "      <td>36000000</td>\n",
       "      <td>229.91</td>\n",
       "      <td>110.91</td>\n",
       "      <td>1090406</td>\n",
       "      <td>156583.0</td>\n",
       "      <td>3</td>\n",
       "      <td>2</td>\n",
       "      <td>2</td>\n",
       "      <td>109</td>\n",
       "    </tr>\n",
       "    <tr>\n",
       "      <th>1</th>\n",
       "      <td>Taipei</td>\n",
       "      <td>文山區</td>\n",
       "      <td>住家用</td>\n",
       "      <td>住</td>\n",
       "      <td>5580000</td>\n",
       "      <td>37.31</td>\n",
       "      <td>24.58</td>\n",
       "      <td>1090317</td>\n",
       "      <td>149558.0</td>\n",
       "      <td>2</td>\n",
       "      <td>1</td>\n",
       "      <td>1</td>\n",
       "      <td>109</td>\n",
       "    </tr>\n",
       "    <tr>\n",
       "      <th>2</th>\n",
       "      <td>Taipei</td>\n",
       "      <td>文山區</td>\n",
       "      <td>住家用</td>\n",
       "      <td>住</td>\n",
       "      <td>18280000</td>\n",
       "      <td>123.66</td>\n",
       "      <td>98.74</td>\n",
       "      <td>1090328</td>\n",
       "      <td>147825.0</td>\n",
       "      <td>3</td>\n",
       "      <td>2</td>\n",
       "      <td>2</td>\n",
       "      <td>109</td>\n",
       "    </tr>\n",
       "    <tr>\n",
       "      <th>3</th>\n",
       "      <td>Taipei</td>\n",
       "      <td>文山區</td>\n",
       "      <td>住家用</td>\n",
       "      <td>住</td>\n",
       "      <td>8000000</td>\n",
       "      <td>124.25</td>\n",
       "      <td>90.78</td>\n",
       "      <td>1090417</td>\n",
       "      <td>64386.0</td>\n",
       "      <td>3</td>\n",
       "      <td>1</td>\n",
       "      <td>2</td>\n",
       "      <td>109</td>\n",
       "    </tr>\n",
       "    <tr>\n",
       "      <th>4</th>\n",
       "      <td>Taipei</td>\n",
       "      <td>文山區</td>\n",
       "      <td>住家用</td>\n",
       "      <td>住</td>\n",
       "      <td>2200000</td>\n",
       "      <td>30.16</td>\n",
       "      <td>26.15</td>\n",
       "      <td>1090417</td>\n",
       "      <td>72944.0</td>\n",
       "      <td>5</td>\n",
       "      <td>2</td>\n",
       "      <td>2</td>\n",
       "      <td>109</td>\n",
       "    </tr>\n",
       "  </tbody>\n",
       "</table>\n",
       "</div>"
      ],
      "text/plain": [
       "     city towns main_use use_zoning  total_price  building_area_square_meter  \\\n",
       "0  Taipei   文山區      住家用          住     36000000                      229.91   \n",
       "1  Taipei   文山區      住家用          住      5580000                       37.31   \n",
       "2  Taipei   文山區      住家用          住     18280000                      123.66   \n",
       "3  Taipei   文山區      住家用          住      8000000                      124.25   \n",
       "4  Taipei   文山區      住家用          住      2200000                       30.16   \n",
       "\n",
       "   main_building_area    tx_dt  unit_price  room_number  hall_number  \\\n",
       "0              110.91  1090406    156583.0            3            2   \n",
       "1               24.58  1090317    149558.0            2            1   \n",
       "2               98.74  1090328    147825.0            3            2   \n",
       "3               90.78  1090417     64386.0            3            1   \n",
       "4               26.15  1090417     72944.0            5            2   \n",
       "\n",
       "   health_number tx_dt_year  \n",
       "0              2        109  \n",
       "1              1        109  \n",
       "2              2        109  \n",
       "3              2        109  \n",
       "4              2        109  "
      ]
     },
     "execution_count": 10,
     "metadata": {},
     "output_type": "execute_result"
    }
   ],
   "source": [
    "#4. 做資料切片將\n",
    "#     新增欄位交易年月日(tx_dt_year)，從交易年月日(tx_dt)萃取出年份\n",
    "#     1.交易年月日(tx_dt_year)，限制在109年\n",
    "#     2.建物現況格局-房(room_number)，限制在1到5間\n",
    "#     3.建物現況格局-廳(hall_number)，限制在1到2廳\n",
    "#     4.最後運用.reset_index()重新定義索引\n",
    "data_analysis = data_live[analysis_columns]\n",
    "data_analysis['tx_dt_year'] = data_analysis['tx_dt'].str.slice(stop=3)\n",
    "display(data_analysis.shape)\n",
    "data_analysis = data_analysis[(data_analysis['tx_dt_year'] == '109') & (data_analysis['room_number'] >= 1)\\\n",
    "                              & (data_analysis['room_number'] <= 5) & (data_analysis['hall_number'] >= 1)\\\n",
    "                              & (data_analysis['hall_number'] <= 2)].reset_index(drop=True)\n",
    "display(data_analysis.shape)\n",
    "data_analysis.head()"
   ]
  },
  {
   "cell_type": "markdown",
   "metadata": {
    "id": "zTOTmNDxAtpi"
   },
   "source": [
    "# 3. 建立自定義特徵加入分析\n"
   ]
  },
  {
   "cell_type": "markdown",
   "metadata": {
    "id": "cyL2au1aAtpi"
   },
   "source": [
    "以台灣來說大家都是以坪為單位計算使用面積，應該是不會問說你家有幾平方公尺吧?，但是偏偏資料中沒有以坪為單位計算，所以接下來請各位幫忙產生新的欄位以坪為單位計算面積，轉換公式我也幫你找好了，在下面的定義。<br>\n",
    "定義 : 1平方公尺相當於0.3025坪 <br>\n",
    "建立新特徵\n",
    "1. 建物移轉總面積坪(building_area_square_feet) : 建物移轉總面積平方公尺\\*0.3025\n",
    "2. 主建物面積坪(main_building_area_square_feet) : 主建物面積\\*0.3025\n",
    "3. 單價元坪(unit_price_square_feet) : 單價元平方公尺/0.3025"
   ]
  },
  {
   "cell_type": "markdown",
   "metadata": {
    "id": "O-BL5boZAtpi"
   },
   "source": [
    "可以利用.describe()做一下資料觀察，是否有奇怪的資料?<br>\n",
    "如果有請將資料移除，並說明為什麼移除此資料?<br>\n",
    "移除後再用.describe()觀察是否還有奇怪的資料?"
   ]
  },
  {
   "cell_type": "code",
   "execution_count": 11,
   "metadata": {
    "id": "vWILawwvAtpj"
   },
   "outputs": [
    {
     "data": {
      "text/html": [
       "<div>\n",
       "<style scoped>\n",
       "    .dataframe tbody tr th:only-of-type {\n",
       "        vertical-align: middle;\n",
       "    }\n",
       "\n",
       "    .dataframe tbody tr th {\n",
       "        vertical-align: top;\n",
       "    }\n",
       "\n",
       "    .dataframe thead th {\n",
       "        text-align: right;\n",
       "    }\n",
       "</style>\n",
       "<table border=\"1\" class=\"dataframe\">\n",
       "  <thead>\n",
       "    <tr style=\"text-align: right;\">\n",
       "      <th></th>\n",
       "      <th>city</th>\n",
       "      <th>towns</th>\n",
       "      <th>main_use</th>\n",
       "      <th>use_zoning</th>\n",
       "      <th>total_price</th>\n",
       "      <th>building_area_square_meter</th>\n",
       "      <th>main_building_area</th>\n",
       "      <th>tx_dt</th>\n",
       "      <th>unit_price</th>\n",
       "      <th>room_number</th>\n",
       "      <th>hall_number</th>\n",
       "      <th>health_number</th>\n",
       "      <th>tx_dt_year</th>\n",
       "      <th>building_area_square_feet</th>\n",
       "      <th>main_building_area_square_feet</th>\n",
       "      <th>unit_price_square_feet</th>\n",
       "    </tr>\n",
       "  </thead>\n",
       "  <tbody>\n",
       "    <tr>\n",
       "      <th>0</th>\n",
       "      <td>Taipei</td>\n",
       "      <td>文山區</td>\n",
       "      <td>住家用</td>\n",
       "      <td>住</td>\n",
       "      <td>36000000</td>\n",
       "      <td>229.91</td>\n",
       "      <td>110.91</td>\n",
       "      <td>1090406</td>\n",
       "      <td>156583.0</td>\n",
       "      <td>3</td>\n",
       "      <td>2</td>\n",
       "      <td>2</td>\n",
       "      <td>109</td>\n",
       "      <td>69.547775</td>\n",
       "      <td>33.550275</td>\n",
       "      <td>517629.752066</td>\n",
       "    </tr>\n",
       "    <tr>\n",
       "      <th>1</th>\n",
       "      <td>Taipei</td>\n",
       "      <td>文山區</td>\n",
       "      <td>住家用</td>\n",
       "      <td>住</td>\n",
       "      <td>5580000</td>\n",
       "      <td>37.31</td>\n",
       "      <td>24.58</td>\n",
       "      <td>1090317</td>\n",
       "      <td>149558.0</td>\n",
       "      <td>2</td>\n",
       "      <td>1</td>\n",
       "      <td>1</td>\n",
       "      <td>109</td>\n",
       "      <td>11.286275</td>\n",
       "      <td>7.435450</td>\n",
       "      <td>494406.611570</td>\n",
       "    </tr>\n",
       "    <tr>\n",
       "      <th>2</th>\n",
       "      <td>Taipei</td>\n",
       "      <td>文山區</td>\n",
       "      <td>住家用</td>\n",
       "      <td>住</td>\n",
       "      <td>18280000</td>\n",
       "      <td>123.66</td>\n",
       "      <td>98.74</td>\n",
       "      <td>1090328</td>\n",
       "      <td>147825.0</td>\n",
       "      <td>3</td>\n",
       "      <td>2</td>\n",
       "      <td>2</td>\n",
       "      <td>109</td>\n",
       "      <td>37.407150</td>\n",
       "      <td>29.868850</td>\n",
       "      <td>488677.685950</td>\n",
       "    </tr>\n",
       "    <tr>\n",
       "      <th>3</th>\n",
       "      <td>Taipei</td>\n",
       "      <td>文山區</td>\n",
       "      <td>住家用</td>\n",
       "      <td>住</td>\n",
       "      <td>8000000</td>\n",
       "      <td>124.25</td>\n",
       "      <td>90.78</td>\n",
       "      <td>1090417</td>\n",
       "      <td>64386.0</td>\n",
       "      <td>3</td>\n",
       "      <td>1</td>\n",
       "      <td>2</td>\n",
       "      <td>109</td>\n",
       "      <td>37.585625</td>\n",
       "      <td>27.460950</td>\n",
       "      <td>212846.280992</td>\n",
       "    </tr>\n",
       "    <tr>\n",
       "      <th>4</th>\n",
       "      <td>Taipei</td>\n",
       "      <td>文山區</td>\n",
       "      <td>住家用</td>\n",
       "      <td>住</td>\n",
       "      <td>2200000</td>\n",
       "      <td>30.16</td>\n",
       "      <td>26.15</td>\n",
       "      <td>1090417</td>\n",
       "      <td>72944.0</td>\n",
       "      <td>5</td>\n",
       "      <td>2</td>\n",
       "      <td>2</td>\n",
       "      <td>109</td>\n",
       "      <td>9.123400</td>\n",
       "      <td>7.910375</td>\n",
       "      <td>241137.190083</td>\n",
       "    </tr>\n",
       "  </tbody>\n",
       "</table>\n",
       "</div>"
      ],
      "text/plain": [
       "     city towns main_use use_zoning  total_price  building_area_square_meter  \\\n",
       "0  Taipei   文山區      住家用          住     36000000                      229.91   \n",
       "1  Taipei   文山區      住家用          住      5580000                       37.31   \n",
       "2  Taipei   文山區      住家用          住     18280000                      123.66   \n",
       "3  Taipei   文山區      住家用          住      8000000                      124.25   \n",
       "4  Taipei   文山區      住家用          住      2200000                       30.16   \n",
       "\n",
       "   main_building_area    tx_dt  unit_price  room_number  hall_number  \\\n",
       "0              110.91  1090406    156583.0            3            2   \n",
       "1               24.58  1090317    149558.0            2            1   \n",
       "2               98.74  1090328    147825.0            3            2   \n",
       "3               90.78  1090417     64386.0            3            1   \n",
       "4               26.15  1090417     72944.0            5            2   \n",
       "\n",
       "   health_number tx_dt_year  building_area_square_feet  \\\n",
       "0              2        109                  69.547775   \n",
       "1              1        109                  11.286275   \n",
       "2              2        109                  37.407150   \n",
       "3              2        109                  37.585625   \n",
       "4              2        109                   9.123400   \n",
       "\n",
       "   main_building_area_square_feet  unit_price_square_feet  \n",
       "0                       33.550275           517629.752066  \n",
       "1                        7.435450           494406.611570  \n",
       "2                       29.868850           488677.685950  \n",
       "3                       27.460950           212846.280992  \n",
       "4                        7.910375           241137.190083  "
      ]
     },
     "execution_count": 11,
     "metadata": {},
     "output_type": "execute_result"
    }
   ],
   "source": [
    "# 建立新特徵\n",
    "# 1. 建物移轉總面積坪(building_area_square_feet) : 建物移轉總面積平方公尺*0.3025\n",
    "# 2. 主建物面積坪(main_building_area_square_feet) : 主建物面積*0.3025\n",
    "# 3. 單價元坪(unit_price_square_feet) : 單價元平方公尺/0.3025\n",
    "data_analysis['building_area_square_feet'] = data_analysis['building_area_square_meter'] * .3025\n",
    "data_analysis['main_building_area_square_feet'] = data_analysis['main_building_area'] * .3025\n",
    "data_analysis['unit_price_square_feet'] = data_analysis['unit_price'] / .3025\n",
    "data_analysis.head()"
   ]
  },
  {
   "cell_type": "code",
   "execution_count": 12,
   "metadata": {
    "id": "ZuAZPbnNAtpj",
    "scrolled": true
   },
   "outputs": [
    {
     "data": {
      "text/html": [
       "<div>\n",
       "<style scoped>\n",
       "    .dataframe tbody tr th:only-of-type {\n",
       "        vertical-align: middle;\n",
       "    }\n",
       "\n",
       "    .dataframe tbody tr th {\n",
       "        vertical-align: top;\n",
       "    }\n",
       "\n",
       "    .dataframe thead th {\n",
       "        text-align: right;\n",
       "    }\n",
       "</style>\n",
       "<table border=\"1\" class=\"dataframe\">\n",
       "  <thead>\n",
       "    <tr style=\"text-align: right;\">\n",
       "      <th></th>\n",
       "      <th>total_price</th>\n",
       "      <th>building_area_square_meter</th>\n",
       "      <th>main_building_area</th>\n",
       "      <th>unit_price</th>\n",
       "      <th>room_number</th>\n",
       "      <th>hall_number</th>\n",
       "      <th>health_number</th>\n",
       "      <th>building_area_square_feet</th>\n",
       "      <th>main_building_area_square_feet</th>\n",
       "      <th>unit_price_square_feet</th>\n",
       "    </tr>\n",
       "  </thead>\n",
       "  <tbody>\n",
       "    <tr>\n",
       "      <th>count</th>\n",
       "      <td>6.894000e+03</td>\n",
       "      <td>6894.000000</td>\n",
       "      <td>6894.000000</td>\n",
       "      <td>6894.000000</td>\n",
       "      <td>6894.000000</td>\n",
       "      <td>6894.000000</td>\n",
       "      <td>6894.000000</td>\n",
       "      <td>6894.000000</td>\n",
       "      <td>6894.000000</td>\n",
       "      <td>6.894000e+03</td>\n",
       "    </tr>\n",
       "    <tr>\n",
       "      <th>mean</th>\n",
       "      <td>1.138712e+07</td>\n",
       "      <td>121.712089</td>\n",
       "      <td>82.086667</td>\n",
       "      <td>94364.671163</td>\n",
       "      <td>2.850885</td>\n",
       "      <td>1.793299</td>\n",
       "      <td>1.733536</td>\n",
       "      <td>36.817907</td>\n",
       "      <td>24.831217</td>\n",
       "      <td>3.119493e+05</td>\n",
       "    </tr>\n",
       "    <tr>\n",
       "      <th>std</th>\n",
       "      <td>1.159445e+07</td>\n",
       "      <td>62.871712</td>\n",
       "      <td>37.363166</td>\n",
       "      <td>58317.311227</td>\n",
       "      <td>0.898498</td>\n",
       "      <td>0.404969</td>\n",
       "      <td>0.681085</td>\n",
       "      <td>19.018693</td>\n",
       "      <td>11.302358</td>\n",
       "      <td>1.927845e+05</td>\n",
       "    </tr>\n",
       "    <tr>\n",
       "      <th>min</th>\n",
       "      <td>0.000000e+00</td>\n",
       "      <td>0.970000</td>\n",
       "      <td>0.000000</td>\n",
       "      <td>0.000000</td>\n",
       "      <td>1.000000</td>\n",
       "      <td>1.000000</td>\n",
       "      <td>0.000000</td>\n",
       "      <td>0.293425</td>\n",
       "      <td>0.000000</td>\n",
       "      <td>0.000000e+00</td>\n",
       "    </tr>\n",
       "    <tr>\n",
       "      <th>25%</th>\n",
       "      <td>5.580000e+06</td>\n",
       "      <td>82.965000</td>\n",
       "      <td>60.682500</td>\n",
       "      <td>53532.250000</td>\n",
       "      <td>2.000000</td>\n",
       "      <td>2.000000</td>\n",
       "      <td>1.000000</td>\n",
       "      <td>25.096912</td>\n",
       "      <td>18.356456</td>\n",
       "      <td>1.769661e+05</td>\n",
       "    </tr>\n",
       "    <tr>\n",
       "      <th>50%</th>\n",
       "      <td>8.550000e+06</td>\n",
       "      <td>109.390000</td>\n",
       "      <td>78.990000</td>\n",
       "      <td>79610.000000</td>\n",
       "      <td>3.000000</td>\n",
       "      <td>2.000000</td>\n",
       "      <td>2.000000</td>\n",
       "      <td>33.090475</td>\n",
       "      <td>23.894475</td>\n",
       "      <td>2.631736e+05</td>\n",
       "    </tr>\n",
       "    <tr>\n",
       "      <th>75%</th>\n",
       "      <td>1.329500e+07</td>\n",
       "      <td>147.517500</td>\n",
       "      <td>95.797500</td>\n",
       "      <td>118728.250000</td>\n",
       "      <td>3.000000</td>\n",
       "      <td>2.000000</td>\n",
       "      <td>2.000000</td>\n",
       "      <td>44.624044</td>\n",
       "      <td>28.978744</td>\n",
       "      <td>3.924901e+05</td>\n",
       "    </tr>\n",
       "    <tr>\n",
       "      <th>max</th>\n",
       "      <td>2.250000e+08</td>\n",
       "      <td>1444.950000</td>\n",
       "      <td>335.760000</td>\n",
       "      <td>610104.000000</td>\n",
       "      <td>5.000000</td>\n",
       "      <td>2.000000</td>\n",
       "      <td>6.000000</td>\n",
       "      <td>437.097375</td>\n",
       "      <td>101.567400</td>\n",
       "      <td>2.016873e+06</td>\n",
       "    </tr>\n",
       "  </tbody>\n",
       "</table>\n",
       "</div>"
      ],
      "text/plain": [
       "        total_price  building_area_square_meter  main_building_area  \\\n",
       "count  6.894000e+03                 6894.000000         6894.000000   \n",
       "mean   1.138712e+07                  121.712089           82.086667   \n",
       "std    1.159445e+07                   62.871712           37.363166   \n",
       "min    0.000000e+00                    0.970000            0.000000   \n",
       "25%    5.580000e+06                   82.965000           60.682500   \n",
       "50%    8.550000e+06                  109.390000           78.990000   \n",
       "75%    1.329500e+07                  147.517500           95.797500   \n",
       "max    2.250000e+08                 1444.950000          335.760000   \n",
       "\n",
       "          unit_price  room_number  hall_number  health_number  \\\n",
       "count    6894.000000  6894.000000  6894.000000    6894.000000   \n",
       "mean    94364.671163     2.850885     1.793299       1.733536   \n",
       "std     58317.311227     0.898498     0.404969       0.681085   \n",
       "min         0.000000     1.000000     1.000000       0.000000   \n",
       "25%     53532.250000     2.000000     2.000000       1.000000   \n",
       "50%     79610.000000     3.000000     2.000000       2.000000   \n",
       "75%    118728.250000     3.000000     2.000000       2.000000   \n",
       "max    610104.000000     5.000000     2.000000       6.000000   \n",
       "\n",
       "       building_area_square_feet  main_building_area_square_feet  \\\n",
       "count                6894.000000                     6894.000000   \n",
       "mean                   36.817907                       24.831217   \n",
       "std                    19.018693                       11.302358   \n",
       "min                     0.293425                        0.000000   \n",
       "25%                    25.096912                       18.356456   \n",
       "50%                    33.090475                       23.894475   \n",
       "75%                    44.624044                       28.978744   \n",
       "max                   437.097375                      101.567400   \n",
       "\n",
       "       unit_price_square_feet  \n",
       "count            6.894000e+03  \n",
       "mean             3.119493e+05  \n",
       "std              1.927845e+05  \n",
       "min              0.000000e+00  \n",
       "25%              1.769661e+05  \n",
       "50%              2.631736e+05  \n",
       "75%              3.924901e+05  \n",
       "max              2.016873e+06  "
      ]
     },
     "execution_count": 12,
     "metadata": {},
     "output_type": "execute_result"
    }
   ],
   "source": [
    "# 可以利用.describe()做一下資料觀察，是否有奇怪的資料?\n",
    "# 如果有請將資料移除，並說明為什麼移除此資料?\n",
    "data_analysis.describe()"
   ]
  },
  {
   "cell_type": "code",
   "execution_count": 13,
   "metadata": {
    "id": "qED9ygBDAtpj"
   },
   "outputs": [
    {
     "data": {
      "text/html": [
       "<div>\n",
       "<style scoped>\n",
       "    .dataframe tbody tr th:only-of-type {\n",
       "        vertical-align: middle;\n",
       "    }\n",
       "\n",
       "    .dataframe tbody tr th {\n",
       "        vertical-align: top;\n",
       "    }\n",
       "\n",
       "    .dataframe thead th {\n",
       "        text-align: right;\n",
       "    }\n",
       "</style>\n",
       "<table border=\"1\" class=\"dataframe\">\n",
       "  <thead>\n",
       "    <tr style=\"text-align: right;\">\n",
       "      <th></th>\n",
       "      <th>total_price</th>\n",
       "      <th>building_area_square_meter</th>\n",
       "      <th>main_building_area</th>\n",
       "      <th>unit_price</th>\n",
       "      <th>room_number</th>\n",
       "      <th>hall_number</th>\n",
       "      <th>health_number</th>\n",
       "      <th>building_area_square_feet</th>\n",
       "      <th>main_building_area_square_feet</th>\n",
       "      <th>unit_price_square_feet</th>\n",
       "    </tr>\n",
       "  </thead>\n",
       "  <tbody>\n",
       "    <tr>\n",
       "      <th>count</th>\n",
       "      <td>6.854000e+03</td>\n",
       "      <td>6854.000000</td>\n",
       "      <td>6854.000000</td>\n",
       "      <td>6854.000000</td>\n",
       "      <td>6854.000000</td>\n",
       "      <td>6854.000000</td>\n",
       "      <td>6854.000000</td>\n",
       "      <td>6854.000000</td>\n",
       "      <td>6854.000000</td>\n",
       "      <td>6.854000e+03</td>\n",
       "    </tr>\n",
       "    <tr>\n",
       "      <th>mean</th>\n",
       "      <td>1.141669e+07</td>\n",
       "      <td>121.768404</td>\n",
       "      <td>82.565725</td>\n",
       "      <td>94548.453020</td>\n",
       "      <td>2.849869</td>\n",
       "      <td>1.793114</td>\n",
       "      <td>1.733149</td>\n",
       "      <td>36.834942</td>\n",
       "      <td>24.976132</td>\n",
       "      <td>3.125569e+05</td>\n",
       "    </tr>\n",
       "    <tr>\n",
       "      <th>std</th>\n",
       "      <td>1.161669e+07</td>\n",
       "      <td>62.849105</td>\n",
       "      <td>36.940424</td>\n",
       "      <td>58374.690321</td>\n",
       "      <td>0.898343</td>\n",
       "      <td>0.405103</td>\n",
       "      <td>0.680869</td>\n",
       "      <td>19.011854</td>\n",
       "      <td>11.174478</td>\n",
       "      <td>1.929742e+05</td>\n",
       "    </tr>\n",
       "    <tr>\n",
       "      <th>min</th>\n",
       "      <td>4.100000e+05</td>\n",
       "      <td>7.440000</td>\n",
       "      <td>7.440000</td>\n",
       "      <td>3239.000000</td>\n",
       "      <td>1.000000</td>\n",
       "      <td>1.000000</td>\n",
       "      <td>0.000000</td>\n",
       "      <td>2.250600</td>\n",
       "      <td>2.250600</td>\n",
       "      <td>1.070744e+04</td>\n",
       "    </tr>\n",
       "    <tr>\n",
       "      <th>25%</th>\n",
       "      <td>5.600000e+06</td>\n",
       "      <td>83.012500</td>\n",
       "      <td>61.062500</td>\n",
       "      <td>53597.250000</td>\n",
       "      <td>2.000000</td>\n",
       "      <td>2.000000</td>\n",
       "      <td>1.000000</td>\n",
       "      <td>25.111281</td>\n",
       "      <td>18.471406</td>\n",
       "      <td>1.771810e+05</td>\n",
       "    </tr>\n",
       "    <tr>\n",
       "      <th>50%</th>\n",
       "      <td>8.600000e+06</td>\n",
       "      <td>109.405000</td>\n",
       "      <td>79.110000</td>\n",
       "      <td>79742.500000</td>\n",
       "      <td>3.000000</td>\n",
       "      <td>2.000000</td>\n",
       "      <td>2.000000</td>\n",
       "      <td>33.095012</td>\n",
       "      <td>23.930775</td>\n",
       "      <td>2.636116e+05</td>\n",
       "    </tr>\n",
       "    <tr>\n",
       "      <th>75%</th>\n",
       "      <td>1.330000e+07</td>\n",
       "      <td>147.445000</td>\n",
       "      <td>95.970000</td>\n",
       "      <td>118880.000000</td>\n",
       "      <td>3.000000</td>\n",
       "      <td>2.000000</td>\n",
       "      <td>2.000000</td>\n",
       "      <td>44.602112</td>\n",
       "      <td>29.030925</td>\n",
       "      <td>3.929917e+05</td>\n",
       "    </tr>\n",
       "    <tr>\n",
       "      <th>max</th>\n",
       "      <td>2.250000e+08</td>\n",
       "      <td>1444.950000</td>\n",
       "      <td>335.760000</td>\n",
       "      <td>610104.000000</td>\n",
       "      <td>5.000000</td>\n",
       "      <td>2.000000</td>\n",
       "      <td>6.000000</td>\n",
       "      <td>437.097375</td>\n",
       "      <td>101.567400</td>\n",
       "      <td>2.016873e+06</td>\n",
       "    </tr>\n",
       "  </tbody>\n",
       "</table>\n",
       "</div>"
      ],
      "text/plain": [
       "        total_price  building_area_square_meter  main_building_area  \\\n",
       "count  6.854000e+03                 6854.000000         6854.000000   \n",
       "mean   1.141669e+07                  121.768404           82.565725   \n",
       "std    1.161669e+07                   62.849105           36.940424   \n",
       "min    4.100000e+05                    7.440000            7.440000   \n",
       "25%    5.600000e+06                   83.012500           61.062500   \n",
       "50%    8.600000e+06                  109.405000           79.110000   \n",
       "75%    1.330000e+07                  147.445000           95.970000   \n",
       "max    2.250000e+08                 1444.950000          335.760000   \n",
       "\n",
       "          unit_price  room_number  hall_number  health_number  \\\n",
       "count    6854.000000  6854.000000  6854.000000    6854.000000   \n",
       "mean    94548.453020     2.849869     1.793114       1.733149   \n",
       "std     58374.690321     0.898343     0.405103       0.680869   \n",
       "min      3239.000000     1.000000     1.000000       0.000000   \n",
       "25%     53597.250000     2.000000     2.000000       1.000000   \n",
       "50%     79742.500000     3.000000     2.000000       2.000000   \n",
       "75%    118880.000000     3.000000     2.000000       2.000000   \n",
       "max    610104.000000     5.000000     2.000000       6.000000   \n",
       "\n",
       "       building_area_square_feet  main_building_area_square_feet  \\\n",
       "count                6854.000000                     6854.000000   \n",
       "mean                   36.834942                       24.976132   \n",
       "std                    19.011854                       11.174478   \n",
       "min                     2.250600                        2.250600   \n",
       "25%                    25.111281                       18.471406   \n",
       "50%                    33.095012                       23.930775   \n",
       "75%                    44.602112                       29.030925   \n",
       "max                   437.097375                      101.567400   \n",
       "\n",
       "       unit_price_square_feet  \n",
       "count            6.854000e+03  \n",
       "mean             3.125569e+05  \n",
       "std              1.929742e+05  \n",
       "min              1.070744e+04  \n",
       "25%              1.771810e+05  \n",
       "50%              2.636116e+05  \n",
       "75%              3.929917e+05  \n",
       "max              2.016873e+06  "
      ]
     },
     "execution_count": 13,
     "metadata": {},
     "output_type": "execute_result"
    }
   ],
   "source": [
    "# 移除後再用.describe()觀察是否還有奇怪的資料?\n",
    "data_analysis.drop(data_analysis[data_analysis['main_building_area_square_feet'] == 0].index, inplace=True)\n",
    "data_analysis.describe()"
   ]
  },
  {
   "cell_type": "markdown",
   "metadata": {
    "id": "uRcOUtYPAtpk"
   },
   "source": [
    "# 4. 找出台北市時價登入總價高度相關的變數"
   ]
  },
  {
   "cell_type": "markdown",
   "metadata": {
    "id": "sMgZ6PbwAtpk"
   },
   "source": [
    "阿宏我是台北人他想找出影響台北市總價、單價元坪的因子<br>\n",
    "相關係數0.3以下為低相關，0.3\\~0.7為中等相關，0.7以上為高度相關<br>\n",
    "1. 資料切片切出city欄位為台北市的資料，並找出時價登入總價(total_price)高度相關的變數\n",
    "2. 資料切片切出city欄位為台北市的資料，找出單價元坪(unit_price_square_feet)高度相關的變數"
   ]
  },
  {
   "cell_type": "code",
   "execution_count": 14,
   "metadata": {
    "id": "UZyUNLQzAtpm"
   },
   "outputs": [
    {
     "data": {
      "text/plain": [
       "Index(['total_price', 'building_area_square_meter', 'main_building_area',\n",
       "       'building_area_square_feet', 'main_building_area_square_feet'],\n",
       "      dtype='object')"
      ]
     },
     "metadata": {},
     "output_type": "display_data"
    },
    {
     "data": {
      "text/plain": [
       "Index(['unit_price', 'unit_price_square_feet'], dtype='object')"
      ]
     },
     "execution_count": 14,
     "metadata": {},
     "output_type": "execute_result"
    }
   ],
   "source": [
    "# 阿宏我是台北人他想找出影響台北市總價、單價元坪的因子\n",
    "# 1. 資料切片切出city欄位為台北市的資料，並找出時價登入總價(total_price)高度相關的變數\n",
    "data_Taipei = data_analysis[data_analysis['city'] == 'Taipei']\n",
    "total_price_relevant = abs(data_Taipei.corr()['total_price']) >= .7\n",
    "display(total_price_relevant[total_price_relevant == True].index)\n",
    "# 2. 資料切片切出city欄位為台北市的資料，找出單價元坪(unit_price_square_feet)高度相關的變數\n",
    "unit_price_relevant = abs(data_Taipei.corr()['unit_price_square_feet']) >= .7\n",
    "unit_price_relevant[unit_price_relevant == True].index"
   ]
  },
  {
   "cell_type": "markdown",
   "metadata": {
    "id": "-y15EpRMAtpm"
   },
   "source": [
    "# 5. 資料視覺化並解釋\n"
   ]
  },
  {
   "cell_type": "markdown",
   "metadata": {
    "id": "TuAbtSFfAtpn"
   },
   "source": [
    "我想要以視覺化的方式來看房價資料，並且請各位資料科學家解釋圖表給阿宏我知道\n",
    "1. 以城市(city)為x軸，以單價元坪(unit_price_square_feet)為y軸畫出boxplot，並找出單價元坪(unit_price_square_feet)中位數最高的地區\n",
    "2. 進一步對台北市的資料做圖，以建物現況格局-房(room_number)為x軸，以總價元(total_price)為y軸畫出boxplot，並找出總價元(total_price)中位數最高的房間數。hint:資料切片找出city欄位為台北市的資料，再進一步畫圖\n",
    "3. 對台北市的資料做圖，先將地區(twons)做編碼在進行，再以地區(twon)為x軸，以單價元坪(unit_price_square_feet)為y軸畫出boxplot，並找出單價元坪(unit_price_square_feet)中位數最高的地區。hint:運用LabelEncoder()對地區(twons)做編碼，運用.inverse_transform()反查編碼的地區"
   ]
  },
  {
   "cell_type": "code",
   "execution_count": 15,
   "metadata": {
    "id": "AeGKqgwIAtpn",
    "scrolled": false
   },
   "outputs": [
    {
     "data": {
      "text/plain": [
       "'Taipei'"
      ]
     },
     "execution_count": 15,
     "metadata": {},
     "output_type": "execute_result"
    },
    {
     "data": {
      "image/png": "[encoded data removed]",
      "text/plain": [
       "<Figure size 432x288 with 1 Axes>"
      ]
     },
     "metadata": {
      "needs_background": "light"
     },
     "output_type": "display_data"
    }
   ],
   "source": [
    "#1. 以城市(city)為x軸，以單價元坪(unit_price_square_feet)為y軸畫出boxplot，並找出單價元坪(unit_price_square_feet)中位數最高的地區\n",
    "import matplotlib.pyplot as plt\n",
    "import seaborn as sns\n",
    "\n",
    "sns.boxplot(x='city', y='unit_price_square_feet', data=data_analysis)\n",
    "data_analysis.groupby('city')['unit_price_square_feet'].median().idxmax()"
   ]
  },
  {
   "cell_type": "code",
   "execution_count": 16,
   "metadata": {
    "id": "2_sM72QLAtpn"
   },
   "outputs": [
    {
     "data": {
      "text/plain": [
       "5"
      ]
     },
     "execution_count": 16,
     "metadata": {},
     "output_type": "execute_result"
    },
    {
     "data": {
      "image/png": "[encoded data removed]",
      "text/plain": [
       "<Figure size 432x288 with 1 Axes>"
      ]
     },
     "metadata": {
      "needs_background": "light"
     },
     "output_type": "display_data"
    }
   ],
   "source": [
    "#2. 進一步對台北市的資料做圖，以建物現況格局-房(room_number)為x軸，以總價元(total_price)為y軸畫出boxplot，並找出總價元(total_price)中位數最高的房間數。hint:資料切片找出city欄位為台北市的資料，再進一步畫圖\n",
    "sns.boxplot(data=data_Taipei, x='room_number', y='total_price')\n",
    "data_Taipei.groupby('room_number')['total_price'].median().idxmax()"
   ]
  },
  {
   "cell_type": "code",
   "execution_count": 17,
   "metadata": {
    "id": "PatbpuqLAtpo"
   },
   "outputs": [
    {
     "name": "stderr",
     "output_type": "stream",
     "text": [
      "<ipython-input-17-e7954b7637f9>:5: SettingWithCopyWarning: \n",
      "A value is trying to be set on a copy of a slice from a DataFrame.\n",
      "Try using .loc[row_indexer,col_indexer] = value instead\n",
      "\n",
      "See the caveats in the documentation: https://pandas.pydata.org/pandas-docs/stable/user_guide/indexing.html#returning-a-view-versus-a-copy\n",
      "  data_Taipei['towns_label'] = le.fit_transform(data_Taipei['towns'])\n"
     ]
    },
    {
     "data": {
      "text/plain": [
       "array(['大安區'], dtype=object)"
      ]
     },
     "execution_count": 17,
     "metadata": {},
     "output_type": "execute_result"
    },
    {
     "data": {
      "image/png": "[encoded data removed]",
      "text/plain": [
       "<Figure size 432x288 with 1 Axes>"
      ]
     },
     "metadata": {
      "needs_background": "light"
     },
     "output_type": "display_data"
    }
   ],
   "source": [
    "#3. 對台北市的資料做圖，先將地區(twons)做編碼在進行，再以地區(twon)為x軸，以單價元坪(unit_price_square_feet)為y軸畫出boxplot，並找出單價元坪(unit_price_square_feet)中位數最高的地區。\n",
    "# hint:運用LabelEncoder()對地區(twons)做編碼，運用.inverse_transform()反查編碼的地區\n",
    "from sklearn.preprocessing import LabelEncoder\n",
    "le = LabelEncoder()\n",
    "data_Taipei['towns_label'] = le.fit_transform(data_Taipei['towns'])\n",
    "\n",
    "sns.boxplot(x='towns_label', y='unit_price_square_feet', data=data_Taipei)\n",
    "\n",
    "le.inverse_transform([data_Taipei.groupby('towns_label')['unit_price_square_feet'].median().idxmax()])"
   ]
  }
 ],
 "metadata": {
  "colab": {
   "name": "不動產分析_習題.ipynb",
   "provenance": []
  },
  "kernelspec": {
   "display_name": "Python 3",
   "language": "python",
   "name": "python3"
  },
  "language_info": {
   "codemirror_mode": {
    "name": "ipython",
    "version": 3
   },
   "file_extension": ".py",
   "mimetype": "text/x-python",
   "name": "python",
   "nbconvert_exporter": "python",
   "pygments_lexer": "ipython3",
   "version": "3.8.3"
  }
 },
 "nbformat": 4,
 "nbformat_minor": 1
}
