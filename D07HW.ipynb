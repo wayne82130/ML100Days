{
 "cells": [
  {
   "cell_type": "markdown",
   "metadata": {
    "id": "GLhLqOtlj1fc"
   },
   "source": [
    "作業目標<br>\n",
    "活用矩陣運算，實做線性代數<br>\n",
    "作業重點<br>\n",
    "線性代數公式應用<br>\n",
    "矩陣相乘維度需要對好，例如:2X3矩陣乘上3X5矩陣得到2X5矩陣"
   ]
  },
  {
   "cell_type": "markdown",
   "metadata": {
    "id": "Rq6NRNxLj4w1"
   },
   "source": [
    "題目:<br>\n",
    "array1 = np.array([[10, 8], [3, 5]]) <br>\n",
    "1. 運用上列array計算反矩陣，乘上原矩陣，並觀察是否為單位矩陣?\n",
    "2. 運用上列array計算特徵值、特徵向量?\n",
    "3. 運用上列array計算SVD?"
   ]
  },
  {
   "cell_type": "code",
   "execution_count": 1,
   "metadata": {
    "id": "YakNatIPj3CW"
   },
   "outputs": [],
   "source": [
    "import numpy as np"
   ]
  },
  {
   "cell_type": "code",
   "execution_count": 6,
   "metadata": {
    "id": "QT4ntMV1kR1c"
   },
   "outputs": [
    {
     "data": {
      "text/plain": [
       "array([[ 0.19230769, -0.30769231],\n",
       "       [-0.11538462,  0.38461538]])"
      ]
     },
     "metadata": {},
     "output_type": "display_data"
    },
    {
     "data": {
      "text/plain": [
       "array([[1., 0.],\n",
       "       [0., 1.]])"
      ]
     },
     "execution_count": 6,
     "metadata": {},
     "output_type": "execute_result"
    }
   ],
   "source": [
    "#1. 運用上列array計算反矩陣，乘上原矩陣，並觀察是否為單位矩陣?\n",
    "array1 = np.array([[10, 8], [3, 5]])\n",
    "array_inv = np.linalg.inv(array1)\n",
    "display(array_inv)\n",
    "\n",
    "np.dot(array_inv, array1)"
   ]
  },
  {
   "cell_type": "code",
   "execution_count": 8,
   "metadata": {
    "id": "9f7cVxwwk-y9"
   },
   "outputs": [
    {
     "data": {
      "text/plain": [
       "(array([13.,  2.]),\n",
       " array([[ 0.93632918, -0.70710678],\n",
       "        [ 0.35112344,  0.70710678]]))"
      ]
     },
     "execution_count": 8,
     "metadata": {},
     "output_type": "execute_result"
    }
   ],
   "source": [
    "#2. 運用上列array計算特徵值、特徵向量?\n",
    "eigenvalue, eigenvector = np.linalg.eig(array1)\n",
    "eigenvalue, eigenvector"
   ]
  },
  {
   "cell_type": "code",
   "execution_count": 11,
   "metadata": {
    "id": "OHSs5etxnL8D"
   },
   "outputs": [
    {
     "data": {
      "text/plain": [
       "(array([[-0.91663818, -0.39971796],\n",
       "        [-0.39971796,  0.91663818]]),\n",
       " array([13.94721714,  1.86417116]),\n",
       " array([[-0.74319741, -0.6690722 ],\n",
       "        [-0.6690722 ,  0.74319741]]))"
      ]
     },
     "execution_count": 11,
     "metadata": {},
     "output_type": "execute_result"
    }
   ],
   "source": [
    "#3. 運用上列array計算SVD?\n",
    "u, s, vh = np.linalg.svd(array1)\n",
    "u, s, vh"
   ]
  }
 ],
 "metadata": {
  "colab": {
   "collapsed_sections": [],
   "name": "作業Hong題目.ipynb",
   "provenance": []
  },
  "kernelspec": {
   "display_name": "Python 3",
   "language": "python",
   "name": "python3"
  },
  "language_info": {
   "codemirror_mode": {
    "name": "ipython",
    "version": 3
   },
   "file_extension": ".py",
   "mimetype": "text/x-python",
   "name": "python",
   "nbconvert_exporter": "python",
   "pygments_lexer": "ipython3",
   "version": "3.8.3"
  }
 },
 "nbformat": 4,
 "nbformat_minor": 1
}
